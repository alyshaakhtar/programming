{
  "nbformat": 4,
  "nbformat_minor": 0,
  "metadata": {
    "colab": {
      "provenance": [],
      "authorship_tag": "ABX9TyMbZ/Hy5PZWLwkXHR6jAjGI",
      "include_colab_link": true
    },
    "kernelspec": {
      "name": "python3",
      "display_name": "Python 3"
    },
    "language_info": {
      "name": "python"
    }
  },
  "cells": [
    {
      "cell_type": "markdown",
      "metadata": {
        "id": "view-in-github",
        "colab_type": "text"
      },
      "source": [
        "<a href=\"https://colab.research.google.com/github/alyshaakhtar/programming/blob/main/assignment/submission/assignment_0_alysha_akhtar.ipynb\" target=\"_parent\"><img src=\"https://colab.research.google.com/assets/colab-badge.svg\" alt=\"Open In Colab\"/></a>"
      ]
    },
    {
      "cell_type": "markdown",
      "source": [
        "# Assignment: Programming Review\n",
        "#### Alysha Akhtar (yhc8vx)\n",
        "#### DS 3001"
      ],
      "metadata": {
        "id": "NVTHKMuY7kpT"
      }
    },
    {
      "cell_type": "markdown",
      "source": [
        "### Q1\n",
        "3. I was surprised that the outlook for data science over the next decade is 36% because even though I knew data science is a rapidly growing field, I did not know it was growing that much. It was also interesting to see how the median annual salaries vary for different roles, but many of them were close to $100k which is promising. I was also surprised about the lack of growth for project management specialists because I know many people are interesting in pursuing jobs in this area, but there is still a very large number of jobs.\n",
        "4. From best to worst, I would rank the jobs as Management Analyst, Project Management Specialist, Data Scientist, Financial Analyst, Operations Research Analyst, Market Research Analyst, Computer and information Research Scientist, and Mathematician/Statistician. This is because I am very interesting in pursuing a job in consulting or project management, so the first 2 roles stood out. Data Scientist is clearly a great role with a high salary, especially considering only a Bachelor's degree is required. Then, I ranked some other roles requiring only a Bachelor's degree in descending salary order, and then finally the two degrees requiring a Master's degree because I do not currently plan to pursue that.\n",
        "* Spreadsheet linked in GitHub repo as Occupations_Data.xlsx"
      ],
      "metadata": {
        "id": "2tukgs4w7yWo"
      }
    },
    {
      "cell_type": "markdown",
      "source": [
        "### Q3"
      ],
      "metadata": {
        "id": "HcgmslmlR7YB"
      }
    },
    {
      "cell_type": "code",
      "source": [],
      "metadata": {
        "id": "QFnxds7uSB9K"
      },
      "execution_count": null,
      "outputs": []
    }
  ]
}